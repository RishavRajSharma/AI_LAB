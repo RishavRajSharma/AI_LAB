{
  "nbformat": 4,
  "nbformat_minor": 0,
  "metadata": {
    "colab": {
      "provenance": [],
      "authorship_tag": "ABX9TyOEvjo6+ZN0u1HqRuoQcgKk",
      "include_colab_link": true
    },
    "kernelspec": {
      "name": "python3",
      "display_name": "Python 3"
    },
    "language_info": {
      "name": "python"
    }
  },
  "cells": [
    {
      "cell_type": "markdown",
      "metadata": {
        "id": "view-in-github",
        "colab_type": "text"
      },
      "source": [
        "<a href=\"https://colab.research.google.com/github/RishavRajSharma/AI_LAB/blob/main/Exp1.ipynb\" target=\"_parent\"><img src=\"https://colab.research.google.com/assets/colab-badge.svg\" alt=\"Open In Colab\"/></a>"
      ]
    },
    {
      "cell_type": "code",
      "execution_count": 1,
      "metadata": {
        "colab": {
          "base_uri": "https://localhost:8080/"
        },
        "id": "P5D-K209x8WO",
        "outputId": "a55b1ea0-e249-400d-d804-24d7f55bc9fa"
      },
      "outputs": [
        {
          "output_type": "stream",
          "name": "stdout",
          "text": [
            "Original array:\n",
            "[12  5  7  3 19  1  8]\n",
            "\n",
            "Sorted array (ascending):\n",
            "[ 1  3  5  7  8 12 19]\n",
            "\n",
            "Sorted array (descending):\n",
            "[19 12  8  7  5  3  1]\n"
          ]
        }
      ],
      "source": [
        "import numpy as np\n",
        "\n",
        "array = np.array([12, 5, 7, 3, 19, 1, 8])\n",
        "\n",
        "print(\"Original array:\")\n",
        "print(array)\n",
        "\n",
        "sorted_array = np.sort(array)\n",
        "\n",
        "print(\"\\nSorted array (ascending):\")\n",
        "print(sorted_array)\n",
        "\n",
        "sorted_desc = np.sort(array)[::-1]\n",
        "\n",
        "print(\"\\nSorted array (descending):\")\n",
        "print(sorted_desc)\n"
      ]
    }
  ]
}