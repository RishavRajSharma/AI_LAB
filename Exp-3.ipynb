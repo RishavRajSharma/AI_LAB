{
  "nbformat": 4,
  "nbformat_minor": 0,
  "metadata": {
    "colab": {
      "provenance": [],
      "authorship_tag": "ABX9TyNM42Zxqhp6p01RKC8YTMUb",
      "include_colab_link": true
    },
    "kernelspec": {
      "name": "python3",
      "display_name": "Python 3"
    },
    "language_info": {
      "name": "python"
    }
  },
  "cells": [
    {
      "cell_type": "markdown",
      "metadata": {
        "id": "view-in-github",
        "colab_type": "text"
      },
      "source": [
        "<a href=\"https://colab.research.google.com/github/RishavRajSharma/AI_LAB/blob/main/Exp-3.ipynb\" target=\"_parent\"><img src=\"https://colab.research.google.com/assets/colab-badge.svg\" alt=\"Open In Colab\"/></a>"
      ]
    },
    {
      "cell_type": "code",
      "execution_count": 1,
      "metadata": {
        "colab": {
          "base_uri": "https://localhost:8080/"
        },
        "id": "dktf8Mbiwxeu",
        "outputId": "f291d848-2e01-46d9-ea05-b8630762a2aa"
      },
      "outputs": [
        {
          "output_type": "stream",
          "name": "stdout",
          "text": [
            "Least-cost path: A -> B -> E -> F\n",
            "Total cost: 7\n"
          ]
        }
      ],
      "source": [
        "import heapq\n",
        "\n",
        "def uniform_cost_search(graph, start, goal):\n",
        "\n",
        "    priority_queue = [(0, start, [start])]\n",
        "    visited = set()\n",
        "\n",
        "    while priority_queue:\n",
        "        cost, current_node, path = heapq.heappop(priority_queue)\n",
        "\n",
        "        if current_node == goal:\n",
        "            return path, cost\n",
        "\n",
        "        if current_node in visited:\n",
        "            continue\n",
        "\n",
        "        visited.add(current_node)\n",
        "\n",
        "        for neighbor, weight in graph.get(current_node, []):\n",
        "            if neighbor not in visited:\n",
        "                total_cost = cost + weight\n",
        "                heapq.heappush(priority_queue, (total_cost, neighbor, path + [neighbor]))\n",
        "\n",
        "    return None, float(\"inf\")\n",
        "\n",
        "graph = {\n",
        "    'A': [('B', 1), ('C', 4)],\n",
        "    'B': [('A', 1), ('D', 2), ('E', 5)],\n",
        "    'C': [('A', 4), ('F', 3)],\n",
        "    'D': [('B', 2)],\n",
        "    'E': [('B', 5), ('F', 1)],\n",
        "    'F': [('C', 3), ('E', 1)]\n",
        "}\n",
        "\n",
        "start_node = 'A'\n",
        "goal_node = 'F'\n",
        "\n",
        "path, total_cost = uniform_cost_search(graph, start_node, goal_node)\n",
        "\n",
        "if path:\n",
        "    print(f\"Least-cost path: {' -> '.join(path)}\")\n",
        "    print(f\"Total cost: {total_cost}\")\n",
        "else:\n",
        "    print(\"No path found.\")\n"
      ]
    }
  ]
}