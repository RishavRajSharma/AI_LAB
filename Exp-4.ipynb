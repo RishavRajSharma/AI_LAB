{
  "nbformat": 4,
  "nbformat_minor": 0,
  "metadata": {
    "colab": {
      "provenance": [],
      "authorship_tag": "ABX9TyNWNXCnHuTSL3ut27jjUSvU",
      "include_colab_link": true
    },
    "kernelspec": {
      "name": "python3",
      "display_name": "Python 3"
    },
    "language_info": {
      "name": "python"
    }
  },
  "cells": [
    {
      "cell_type": "markdown",
      "metadata": {
        "id": "view-in-github",
        "colab_type": "text"
      },
      "source": [
        "<a href=\"https://colab.research.google.com/github/RishavRajSharma/AI_LAB/blob/main/Exp-4.ipynb\" target=\"_parent\"><img src=\"https://colab.research.google.com/assets/colab-badge.svg\" alt=\"Open In Colab\"/></a>"
      ]
    },
    {
      "cell_type": "code",
      "execution_count": 1,
      "metadata": {
        "colab": {
          "base_uri": "https://localhost:8080/"
        },
        "id": "8wN_7sJpvwII",
        "outputId": "1aa8e072-7070-4e2f-8709-24a9a870e90d"
      },
      "outputs": [
        {
          "output_type": "stream",
          "name": "stdout",
          "text": [
            "Path found: [(0, 0), (0, 1), (0, 2), (1, 2), (2, 2), (2, 3), (2, 4), (3, 4), (4, 4)]\n",
            "\n",
            "Grid with path:\n",
            "P P P . # \n",
            "# # P # . \n",
            ". . P P P \n",
            ". # # # P \n",
            ". . . . P \n"
          ]
        }
      ],
      "source": [
        "import heapq\n",
        "\n",
        "class Node:\n",
        "    def __init__(self, position, parent=None):\n",
        "        self.position = position\n",
        "        self.parent = parent\n",
        "        self.g = 0  # Distance from start node\n",
        "        self.h = 0  # Heuristic to goal\n",
        "        self.f = 0  # Total cost\n",
        "\n",
        "    def __lt__(self, other):\n",
        "        return self.f < other.f\n",
        "\n",
        "def heuristic(a, b):\n",
        "\n",
        "    return abs(a[0] - b[0]) + abs(a[1] - b[1])\n",
        "\n",
        "def astar(grid, start, end):\n",
        "    open_list = []\n",
        "    closed_set = set()\n",
        "\n",
        "    start_node = Node(start)\n",
        "    goal_node = Node(end)\n",
        "\n",
        "    heapq.heappush(open_list, start_node)\n",
        "\n",
        "    while open_list:\n",
        "        current_node = heapq.heappop(open_list)\n",
        "        closed_set.add(current_node.position)\n",
        "\n",
        "        if current_node.position == goal_node.position:\n",
        "            path = []\n",
        "            while current_node:\n",
        "                path.append(current_node.position)\n",
        "                current_node = current_node.parent\n",
        "            return path[::-1]\n",
        "\n",
        "        neighbors = [\n",
        "            (0, -1), (0, 1), (-1, 0), (1, 0)\n",
        "        ]\n",
        "\n",
        "        for dx, dy in neighbors:\n",
        "            neighbor_pos = (current_node.position[0] + dx, current_node.position[1] + dy)\n",
        "\n",
        "            if not (0 <= neighbor_pos[0] < len(grid)) or not (0 <= neighbor_pos[1] < len(grid[0])):\n",
        "                continue\n",
        "\n",
        "            if grid[neighbor_pos[0]][neighbor_pos[1]] != 0:\n",
        "                continue\n",
        "\n",
        "            if neighbor_pos in closed_set:\n",
        "                continue\n",
        "\n",
        "            neighbor = Node(neighbor_pos, current_node)\n",
        "            neighbor.g = current_node.g + 1\n",
        "            neighbor.h = heuristic(neighbor_pos, goal_node.position)\n",
        "            neighbor.f = neighbor.g + neighbor.h\n",
        "\n",
        "            if any(open_node.position == neighbor.position and open_node.f <= neighbor.f for open_node in open_list):\n",
        "                continue\n",
        "\n",
        "            heapq.heappush(open_list, neighbor)\n",
        "\n",
        "    return None\n",
        "\n",
        "def print_grid(grid, path):\n",
        "    for i in range(len(grid)):\n",
        "        for j in range(len(grid[0])):\n",
        "            if (i, j) in path:\n",
        "                print(\"P\", end=\" \")\n",
        "            elif grid[i][j] == 1:\n",
        "                print(\"#\", end=\" \")\n",
        "            else:\n",
        "                print(\".\", end=\" \")\n",
        "        print()\n",
        "\n",
        "grid = [\n",
        "    [0, 0, 0, 0, 1],\n",
        "    [1, 1, 0, 1, 0],\n",
        "    [0, 0, 0, 0, 0],\n",
        "    [0, 1, 1, 1, 0],\n",
        "    [0, 0, 0, 0, 0]\n",
        "]\n",
        "\n",
        "start = (0, 0)\n",
        "end = (4, 4)\n",
        "\n",
        "path = astar(grid, start, end)\n",
        "\n",
        "if path:\n",
        "    print(\"Path found:\", path)\n",
        "    print(\"\\nGrid with path:\")\n",
        "    print_grid(grid, path)\n",
        "else:\n",
        "    print(\"No path found.\")\n"
      ]
    }
  ]
}