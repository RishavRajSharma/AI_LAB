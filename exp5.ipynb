{
  "nbformat": 4,
  "nbformat_minor": 0,
  "metadata": {
    "colab": {
      "provenance": [],
      "authorship_tag": "ABX9TyPcxGumDAUi+WOmBO+kHQ6J",
      "include_colab_link": true
    },
    "kernelspec": {
      "name": "python3",
      "display_name": "Python 3"
    },
    "language_info": {
      "name": "python"
    }
  },
  "cells": [
    {
      "cell_type": "markdown",
      "metadata": {
        "id": "view-in-github",
        "colab_type": "text"
      },
      "source": [
        "<a href=\"https://colab.research.google.com/github/RishavRajSharma/AI_LAB/blob/main/exp5.ipynb\" target=\"_parent\"><img src=\"https://colab.research.google.com/assets/colab-badge.svg\" alt=\"Open In Colab\"/></a>"
      ]
    },
    {
      "cell_type": "code",
      "execution_count": 2,
      "metadata": {
        "colab": {
          "base_uri": "https://localhost:8080/"
        },
        "id": "WtOwHNODVm8P",
        "outputId": "c470491a-2908-4b3b-cb4e-f354e8b70ae7"
      },
      "outputs": [
        {
          "output_type": "stream",
          "name": "stdout",
          "text": [
            "The minimum value of the function is at x = -2.0002179250899674\n",
            "The function value at this point is f(x) = -3.999999952508655\n"
          ]
        }
      ],
      "source": [
        "import random\n",
        "\n",
        "def objective_function(x):\n",
        "    return x**2 + 4*x\n",
        "\n",
        "def hill_climb(starting_point, step_size, max_iterations):\n",
        "    current_point = starting_point\n",
        "    current_value = objective_function(current_point)\n",
        "\n",
        "    for _ in range(max_iterations):\n",
        "        neighbor_point = current_point + random.uniform(-step_size, step_size)\n",
        "        neighbor_value = objective_function(neighbor_point)\n",
        "\n",
        "        if neighbor_value < current_value:\n",
        "            current_point = neighbor_point\n",
        "            current_value = neighbor_value\n",
        "\n",
        "    return current_point, current_value\n",
        "\n",
        "starting_point = random.uniform(-10, 10)\n",
        "step_size = 0.1\n",
        "max_iterations = 1000\n",
        "\n",
        "best_point, best_value = hill_climb(starting_point, step_size, max_iterations)\n",
        "\n",
        "print(f\"The minimum value of the function is at x = {best_point}\")\n",
        "print(f\"The function value at this point is f(x) = {best_value}\")\n"
      ]
    }
  ]
}