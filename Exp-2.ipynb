{
  "nbformat": 4,
  "nbformat_minor": 0,
  "metadata": {
    "colab": {
      "provenance": [],
      "authorship_tag": "ABX9TyPv3ui5HqCU0hpboLKaZo0c",
      "include_colab_link": true
    },
    "kernelspec": {
      "name": "python3",
      "display_name": "Python 3"
    },
    "language_info": {
      "name": "python"
    }
  },
  "cells": [
    {
      "cell_type": "markdown",
      "metadata": {
        "id": "view-in-github",
        "colab_type": "text"
      },
      "source": [
        "<a href=\"https://colab.research.google.com/github/RishavRajSharma/AI_LAB/blob/main/Exp-2.ipynb\" target=\"_parent\"><img src=\"https://colab.research.google.com/assets/colab-badge.svg\" alt=\"Open In Colab\"/></a>"
      ]
    },
    {
      "cell_type": "code",
      "execution_count": 1,
      "metadata": {
        "colab": {
          "base_uri": "https://localhost:8080/"
        },
        "id": "-bTvofCmxfhU",
        "outputId": "fdb58dc8-c00e-4f8d-b86d-03dd77a0cf47"
      },
      "outputs": [
        {
          "output_type": "stream",
          "name": "stdout",
          "text": [
            "Full DataFrame:\n",
            "       Name  Age         City  Salary\n",
            "0    Alice   24     New York   50000\n",
            "1      Bob   27  Los Angeles   60000\n",
            "2  Charlie   22      Chicago   45000\n",
            "3    David   32      Houston   80000\n",
            "4      Eva   29      Phoenix   75000 \n",
            "\n",
            "Names column:\n",
            " 0      Alice\n",
            "1        Bob\n",
            "2    Charlie\n",
            "3      David\n",
            "4        Eva\n",
            "Name: Name, dtype: object \n",
            "\n",
            "People older than 25:\n",
            "     Name  Age         City  Salary\n",
            "1    Bob   27  Los Angeles   60000\n",
            "3  David   32      Houston   80000\n",
            "4    Eva   29      Phoenix   75000 \n",
            "\n",
            "DataFrame with Tax column:\n",
            "       Name  Age         City  Salary     Tax\n",
            "0    Alice   24     New York   50000  5000.0\n",
            "1      Bob   27  Los Angeles   60000  6000.0\n",
            "2  Charlie   22      Chicago   45000  4500.0\n",
            "3    David   32      Houston   80000  8000.0\n",
            "4      Eva   29      Phoenix   75000  7500.0 \n",
            "\n",
            "Summary statistics:\n",
            "              Age        Salary          Tax\n",
            "count   5.000000      5.000000     5.000000\n",
            "mean   26.800000  62000.000000  6200.000000\n",
            "std     3.962323  15247.950682  1524.795068\n",
            "min    22.000000  45000.000000  4500.000000\n",
            "25%    24.000000  50000.000000  5000.000000\n",
            "50%    27.000000  60000.000000  6000.000000\n",
            "75%    29.000000  75000.000000  7500.000000\n",
            "max    32.000000  80000.000000  8000.000000 \n",
            "\n",
            "Average salary by city:\n",
            " City\n",
            "Chicago        45000.0\n",
            "Houston        80000.0\n",
            "Los Angeles    60000.0\n",
            "New York       50000.0\n",
            "Phoenix        75000.0\n",
            "Name: Salary, dtype: float64\n"
          ]
        }
      ],
      "source": [
        "import pandas as pd\n",
        "\n",
        "data = {\n",
        "    'Name': ['Alice', 'Bob', 'Charlie', 'David', 'Eva'],\n",
        "    'Age': [24, 27, 22, 32, 29],\n",
        "    'City': ['New York', 'Los Angeles', 'Chicago', 'Houston', 'Phoenix'],\n",
        "    'Salary': [50000, 60000, 45000, 80000, 75000]\n",
        "}\n",
        "\n",
        "df = pd.DataFrame(data)\n",
        "\n",
        "print(\"Full DataFrame:\\n\", df, \"\\n\")\n",
        "\n",
        "print(\"Names column:\\n\", df['Name'], \"\\n\")\n",
        "\n",
        "print(\"People older than 25:\\n\", df[df['Age'] > 25], \"\\n\")\n",
        "\n",
        "df['Tax'] = df['Salary'] * 0.10\n",
        "print(\"DataFrame with Tax column:\\n\", df, \"\\n\")\n",
        "\n",
        "print(\"Summary statistics:\\n\", df.describe(), \"\\n\")\n",
        "\n",
        "print(\"Average salary by city:\\n\", df.groupby('City')['Salary'].mean())\n"
      ]
    }
  ]
}